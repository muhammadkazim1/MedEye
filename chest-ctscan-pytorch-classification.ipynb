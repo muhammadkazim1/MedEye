{
 "cells": [
  {
   "cell_type": "markdown",
   "id": "66e424d7",
   "metadata": {
    "_cell_guid": "b1076dfc-b9ad-4769-8c92-a6c4dae69d19",
    "_uuid": "8f2839f25d086af736a60e9eeb907d3b93b6e0e5",
    "execution": {
     "iopub.execute_input": "2024-08-23T23:44:45.630686Z",
     "iopub.status.busy": "2024-08-23T23:44:45.629809Z",
     "iopub.status.idle": "2024-08-23T23:44:45.637942Z",
     "shell.execute_reply": "2024-08-23T23:44:45.636950Z",
     "shell.execute_reply.started": "2024-08-23T23:44:45.630646Z"
    },
    "papermill": {
     "duration": 0.008643,
     "end_time": "2024-09-03T00:17:43.046578",
     "exception": false,
     "start_time": "2024-09-03T00:17:43.037935",
     "status": "completed"
    },
    "tags": []
   },
   "source": [
    "# import torch library"
   ]
  },
  {
   "cell_type": "code",
   "execution_count": 1,
   "id": "741c5088",
   "metadata": {
    "execution": {
     "iopub.execute_input": "2024-09-03T00:17:43.064441Z",
     "iopub.status.busy": "2024-09-03T00:17:43.063958Z",
     "iopub.status.idle": "2024-09-03T00:17:48.477796Z",
     "shell.execute_reply": "2024-09-03T00:17:48.476727Z"
    },
    "papermill": {
     "duration": 5.425619,
     "end_time": "2024-09-03T00:17:48.480102",
     "exception": false,
     "start_time": "2024-09-03T00:17:43.054483",
     "status": "completed"
    },
    "tags": []
   },
   "outputs": [
    {
     "name": "stderr",
     "output_type": "stream",
     "text": [
      "Downloading: \"https://download.pytorch.org/models/resnet18-f37072fd.pth\" to /root/.cache/torch/hub/checkpoints/resnet18-f37072fd.pth\n",
      "100%|██████████| 44.7M/44.7M [00:00<00:00, 181MB/s]\n"
     ]
    },
    {
     "data": {
      "text/plain": [
       "'cuda'"
      ]
     },
     "execution_count": 1,
     "metadata": {},
     "output_type": "execute_result"
    }
   ],
   "source": [
    "import torch\n",
    "from torch import nn\n",
    "import torch\n",
    "import numpy as np\n",
    "from torch.utils.data import DataLoader\n",
    "from torchvision import datasets, transforms\n",
    "from torch.utils.data import DataLoader\n",
    "from torchvision.models import resnet18\n",
    "from torchvision.models import ResNet18_Weights\n",
    "\n",
    "resnet18_model = resnet18(weights=ResNet18_Weights.IMAGENET1K_V1)\n",
    "device = 'cuda' if torch.cuda.is_available() else 'cpu'\n",
    "device"
   ]
  },
  {
   "cell_type": "code",
   "execution_count": 2,
   "id": "749f456b",
   "metadata": {
    "execution": {
     "iopub.execute_input": "2024-09-03T00:17:48.503536Z",
     "iopub.status.busy": "2024-09-03T00:17:48.502535Z",
     "iopub.status.idle": "2024-09-03T00:17:48.509811Z",
     "shell.execute_reply": "2024-09-03T00:17:48.509001Z"
    },
    "papermill": {
     "duration": 0.020912,
     "end_time": "2024-09-03T00:17:48.511845",
     "exception": false,
     "start_time": "2024-09-03T00:17:48.490933",
     "status": "completed"
    },
    "tags": []
   },
   "outputs": [
    {
     "data": {
      "text/plain": [
       "ResNet(\n",
       "  (conv1): Conv2d(3, 64, kernel_size=(7, 7), stride=(2, 2), padding=(3, 3), bias=False)\n",
       "  (bn1): BatchNorm2d(64, eps=1e-05, momentum=0.1, affine=True, track_running_stats=True)\n",
       "  (relu): ReLU(inplace=True)\n",
       "  (maxpool): MaxPool2d(kernel_size=3, stride=2, padding=1, dilation=1, ceil_mode=False)\n",
       "  (layer1): Sequential(\n",
       "    (0): BasicBlock(\n",
       "      (conv1): Conv2d(64, 64, kernel_size=(3, 3), stride=(1, 1), padding=(1, 1), bias=False)\n",
       "      (bn1): BatchNorm2d(64, eps=1e-05, momentum=0.1, affine=True, track_running_stats=True)\n",
       "      (relu): ReLU(inplace=True)\n",
       "      (conv2): Conv2d(64, 64, kernel_size=(3, 3), stride=(1, 1), padding=(1, 1), bias=False)\n",
       "      (bn2): BatchNorm2d(64, eps=1e-05, momentum=0.1, affine=True, track_running_stats=True)\n",
       "    )\n",
       "    (1): BasicBlock(\n",
       "      (conv1): Conv2d(64, 64, kernel_size=(3, 3), stride=(1, 1), padding=(1, 1), bias=False)\n",
       "      (bn1): BatchNorm2d(64, eps=1e-05, momentum=0.1, affine=True, track_running_stats=True)\n",
       "      (relu): ReLU(inplace=True)\n",
       "      (conv2): Conv2d(64, 64, kernel_size=(3, 3), stride=(1, 1), padding=(1, 1), bias=False)\n",
       "      (bn2): BatchNorm2d(64, eps=1e-05, momentum=0.1, affine=True, track_running_stats=True)\n",
       "    )\n",
       "  )\n",
       "  (layer2): Sequential(\n",
       "    (0): BasicBlock(\n",
       "      (conv1): Conv2d(64, 128, kernel_size=(3, 3), stride=(2, 2), padding=(1, 1), bias=False)\n",
       "      (bn1): BatchNorm2d(128, eps=1e-05, momentum=0.1, affine=True, track_running_stats=True)\n",
       "      (relu): ReLU(inplace=True)\n",
       "      (conv2): Conv2d(128, 128, kernel_size=(3, 3), stride=(1, 1), padding=(1, 1), bias=False)\n",
       "      (bn2): BatchNorm2d(128, eps=1e-05, momentum=0.1, affine=True, track_running_stats=True)\n",
       "      (downsample): Sequential(\n",
       "        (0): Conv2d(64, 128, kernel_size=(1, 1), stride=(2, 2), bias=False)\n",
       "        (1): BatchNorm2d(128, eps=1e-05, momentum=0.1, affine=True, track_running_stats=True)\n",
       "      )\n",
       "    )\n",
       "    (1): BasicBlock(\n",
       "      (conv1): Conv2d(128, 128, kernel_size=(3, 3), stride=(1, 1), padding=(1, 1), bias=False)\n",
       "      (bn1): BatchNorm2d(128, eps=1e-05, momentum=0.1, affine=True, track_running_stats=True)\n",
       "      (relu): ReLU(inplace=True)\n",
       "      (conv2): Conv2d(128, 128, kernel_size=(3, 3), stride=(1, 1), padding=(1, 1), bias=False)\n",
       "      (bn2): BatchNorm2d(128, eps=1e-05, momentum=0.1, affine=True, track_running_stats=True)\n",
       "    )\n",
       "  )\n",
       "  (layer3): Sequential(\n",
       "    (0): BasicBlock(\n",
       "      (conv1): Conv2d(128, 256, kernel_size=(3, 3), stride=(2, 2), padding=(1, 1), bias=False)\n",
       "      (bn1): BatchNorm2d(256, eps=1e-05, momentum=0.1, affine=True, track_running_stats=True)\n",
       "      (relu): ReLU(inplace=True)\n",
       "      (conv2): Conv2d(256, 256, kernel_size=(3, 3), stride=(1, 1), padding=(1, 1), bias=False)\n",
       "      (bn2): BatchNorm2d(256, eps=1e-05, momentum=0.1, affine=True, track_running_stats=True)\n",
       "      (downsample): Sequential(\n",
       "        (0): Conv2d(128, 256, kernel_size=(1, 1), stride=(2, 2), bias=False)\n",
       "        (1): BatchNorm2d(256, eps=1e-05, momentum=0.1, affine=True, track_running_stats=True)\n",
       "      )\n",
       "    )\n",
       "    (1): BasicBlock(\n",
       "      (conv1): Conv2d(256, 256, kernel_size=(3, 3), stride=(1, 1), padding=(1, 1), bias=False)\n",
       "      (bn1): BatchNorm2d(256, eps=1e-05, momentum=0.1, affine=True, track_running_stats=True)\n",
       "      (relu): ReLU(inplace=True)\n",
       "      (conv2): Conv2d(256, 256, kernel_size=(3, 3), stride=(1, 1), padding=(1, 1), bias=False)\n",
       "      (bn2): BatchNorm2d(256, eps=1e-05, momentum=0.1, affine=True, track_running_stats=True)\n",
       "    )\n",
       "  )\n",
       "  (layer4): Sequential(\n",
       "    (0): BasicBlock(\n",
       "      (conv1): Conv2d(256, 512, kernel_size=(3, 3), stride=(2, 2), padding=(1, 1), bias=False)\n",
       "      (bn1): BatchNorm2d(512, eps=1e-05, momentum=0.1, affine=True, track_running_stats=True)\n",
       "      (relu): ReLU(inplace=True)\n",
       "      (conv2): Conv2d(512, 512, kernel_size=(3, 3), stride=(1, 1), padding=(1, 1), bias=False)\n",
       "      (bn2): BatchNorm2d(512, eps=1e-05, momentum=0.1, affine=True, track_running_stats=True)\n",
       "      (downsample): Sequential(\n",
       "        (0): Conv2d(256, 512, kernel_size=(1, 1), stride=(2, 2), bias=False)\n",
       "        (1): BatchNorm2d(512, eps=1e-05, momentum=0.1, affine=True, track_running_stats=True)\n",
       "      )\n",
       "    )\n",
       "    (1): BasicBlock(\n",
       "      (conv1): Conv2d(512, 512, kernel_size=(3, 3), stride=(1, 1), padding=(1, 1), bias=False)\n",
       "      (bn1): BatchNorm2d(512, eps=1e-05, momentum=0.1, affine=True, track_running_stats=True)\n",
       "      (relu): ReLU(inplace=True)\n",
       "      (conv2): Conv2d(512, 512, kernel_size=(3, 3), stride=(1, 1), padding=(1, 1), bias=False)\n",
       "      (bn2): BatchNorm2d(512, eps=1e-05, momentum=0.1, affine=True, track_running_stats=True)\n",
       "    )\n",
       "  )\n",
       "  (avgpool): AdaptiveAvgPool2d(output_size=(1, 1))\n",
       "  (fc): Linear(in_features=512, out_features=1000, bias=True)\n",
       ")"
      ]
     },
     "execution_count": 2,
     "metadata": {},
     "output_type": "execute_result"
    }
   ],
   "source": [
    "resnet18_model"
   ]
  },
  {
   "cell_type": "markdown",
   "id": "9ece524c",
   "metadata": {
    "papermill": {
     "duration": 0.00898,
     "end_time": "2024-09-03T00:17:48.531466",
     "exception": false,
     "start_time": "2024-09-03T00:17:48.522486",
     "status": "completed"
    },
    "tags": []
   },
   "source": [
    "# Data Transform \n",
    "## convert data to tensor and Data augmentation"
   ]
  },
  {
   "cell_type": "code",
   "execution_count": 3,
   "id": "b8161e9e",
   "metadata": {
    "execution": {
     "iopub.execute_input": "2024-09-03T00:17:48.550750Z",
     "iopub.status.busy": "2024-09-03T00:17:48.549999Z",
     "iopub.status.idle": "2024-09-03T00:17:48.555418Z",
     "shell.execute_reply": "2024-09-03T00:17:48.554533Z"
    },
    "papermill": {
     "duration": 0.017203,
     "end_time": "2024-09-03T00:17:48.557395",
     "exception": false,
     "start_time": "2024-09-03T00:17:48.540192",
     "status": "completed"
    },
    "tags": []
   },
   "outputs": [],
   "source": [
    "data_transform = transforms.Compose([\n",
    "    transforms.Resize(size=(224, 224)),\n",
    "     transforms.RandomHorizontalFlip(p=0.7),\n",
    "    transforms.RandomRotation(10),\n",
    "    transforms.ToTensor(),\n",
    " \n",
    "\n",
    "]) "
   ]
  },
  {
   "cell_type": "markdown",
   "id": "92d353ef",
   "metadata": {
    "papermill": {
     "duration": 0.008367,
     "end_time": "2024-09-03T00:17:48.574793",
     "exception": false,
     "start_time": "2024-09-03T00:17:48.566426",
     "status": "completed"
    },
    "tags": []
   },
   "source": [
    "# Load Data"
   ]
  },
  {
   "cell_type": "code",
   "execution_count": 4,
   "id": "08fc4c3a",
   "metadata": {
    "execution": {
     "iopub.execute_input": "2024-09-03T00:17:48.593214Z",
     "iopub.status.busy": "2024-09-03T00:17:48.592921Z",
     "iopub.status.idle": "2024-09-03T00:17:48.817121Z",
     "shell.execute_reply": "2024-09-03T00:17:48.816296Z"
    },
    "papermill": {
     "duration": 0.235731,
     "end_time": "2024-09-03T00:17:48.819117",
     "exception": false,
     "start_time": "2024-09-03T00:17:48.583386",
     "status": "completed"
    },
    "tags": []
   },
   "outputs": [
    {
     "data": {
      "text/plain": [
       "(Dataset ImageFolder\n",
       "     Number of datapoints: 613\n",
       "     Root location: /kaggle/input/chest-ctscan-images/Data/train\n",
       "     StandardTransform\n",
       " Transform: Compose(\n",
       "                Resize(size=(224, 224), interpolation=bilinear, max_size=None, antialias=True)\n",
       "                RandomHorizontalFlip(p=0.7)\n",
       "                RandomRotation(degrees=[-10.0, 10.0], interpolation=nearest, expand=False, fill=0)\n",
       "                ToTensor()\n",
       "            ),\n",
       " Dataset ImageFolder\n",
       "     Number of datapoints: 315\n",
       "     Root location: /kaggle/input/chest-ctscan-images/Data/test\n",
       "     StandardTransform\n",
       " Transform: Compose(\n",
       "                Resize(size=(224, 224), interpolation=bilinear, max_size=None, antialias=True)\n",
       "                RandomHorizontalFlip(p=0.7)\n",
       "                RandomRotation(degrees=[-10.0, 10.0], interpolation=nearest, expand=False, fill=0)\n",
       "                ToTensor()\n",
       "            ),\n",
       " Dataset ImageFolder\n",
       "     Number of datapoints: 72\n",
       "     Root location: /kaggle/input/chest-ctscan-images/Data/valid\n",
       "     StandardTransform\n",
       " Transform: Compose(\n",
       "                Resize(size=(224, 224), interpolation=bilinear, max_size=None, antialias=True)\n",
       "                RandomHorizontalFlip(p=0.7)\n",
       "                RandomRotation(degrees=[-10.0, 10.0], interpolation=nearest, expand=False, fill=0)\n",
       "                ToTensor()\n",
       "            ))"
      ]
     },
     "execution_count": 4,
     "metadata": {},
     "output_type": "execute_result"
    }
   ],
   "source": [
    "train_data = datasets.ImageFolder(root=\"/kaggle/input/chest-ctscan-images/Data/train\",\n",
    "                                  transform=data_transform, \n",
    "                                  target_transform=None) \n",
    "\n",
    "test_data = datasets.ImageFolder(root=\"/kaggle/input/chest-ctscan-images/Data/test\",\n",
    "                                 transform=data_transform)\n",
    "\n",
    "\n",
    "validation_data = datasets.ImageFolder(root=\"/kaggle/input/chest-ctscan-images/Data/valid\",\n",
    "                                 transform=data_transform)\n",
    "train_data, test_data ,validation_data"
   ]
  },
  {
   "cell_type": "code",
   "execution_count": 5,
   "id": "b2f0b0c6",
   "metadata": {
    "execution": {
     "iopub.execute_input": "2024-09-03T00:17:48.838730Z",
     "iopub.status.busy": "2024-09-03T00:17:48.837996Z",
     "iopub.status.idle": "2024-09-03T00:17:48.917554Z",
     "shell.execute_reply": "2024-09-03T00:17:48.916655Z"
    },
    "papermill": {
     "duration": 0.09149,
     "end_time": "2024-09-03T00:17:48.919703",
     "exception": false,
     "start_time": "2024-09-03T00:17:48.828213",
     "status": "completed"
    },
    "tags": []
   },
   "outputs": [
    {
     "data": {
      "text/plain": [
       "(tensor([[[0., 0., 0.,  ..., 0., 0., 0.],\n",
       "          [0., 0., 0.,  ..., 0., 0., 0.],\n",
       "          [0., 0., 0.,  ..., 0., 0., 0.],\n",
       "          ...,\n",
       "          [0., 0., 0.,  ..., 0., 0., 0.],\n",
       "          [0., 0., 0.,  ..., 0., 0., 0.],\n",
       "          [0., 0., 0.,  ..., 0., 0., 0.]],\n",
       " \n",
       "         [[0., 0., 0.,  ..., 0., 0., 0.],\n",
       "          [0., 0., 0.,  ..., 0., 0., 0.],\n",
       "          [0., 0., 0.,  ..., 0., 0., 0.],\n",
       "          ...,\n",
       "          [0., 0., 0.,  ..., 0., 0., 0.],\n",
       "          [0., 0., 0.,  ..., 0., 0., 0.],\n",
       "          [0., 0., 0.,  ..., 0., 0., 0.]],\n",
       " \n",
       "         [[0., 0., 0.,  ..., 0., 0., 0.],\n",
       "          [0., 0., 0.,  ..., 0., 0., 0.],\n",
       "          [0., 0., 0.,  ..., 0., 0., 0.],\n",
       "          ...,\n",
       "          [0., 0., 0.,  ..., 0., 0., 0.],\n",
       "          [0., 0., 0.,  ..., 0., 0., 0.],\n",
       "          [0., 0., 0.,  ..., 0., 0., 0.]]]),\n",
       " 2)"
      ]
     },
     "execution_count": 5,
     "metadata": {},
     "output_type": "execute_result"
    }
   ],
   "source": [
    "train_data[np.random.randint(0 , len(train_data))]\n"
   ]
  },
  {
   "cell_type": "code",
   "execution_count": 6,
   "id": "048cdbc0",
   "metadata": {
    "execution": {
     "iopub.execute_input": "2024-09-03T00:17:48.939398Z",
     "iopub.status.busy": "2024-09-03T00:17:48.938814Z",
     "iopub.status.idle": "2024-09-03T00:17:48.945260Z",
     "shell.execute_reply": "2024-09-03T00:17:48.944292Z"
    },
    "papermill": {
     "duration": 0.018269,
     "end_time": "2024-09-03T00:17:48.947106",
     "exception": false,
     "start_time": "2024-09-03T00:17:48.928837",
     "status": "completed"
    },
    "tags": []
   },
   "outputs": [
    {
     "data": {
      "text/plain": [
       "(613, 315)"
      ]
     },
     "execution_count": 6,
     "metadata": {},
     "output_type": "execute_result"
    }
   ],
   "source": [
    "len(train_data)  , len(test_data)"
   ]
  },
  {
   "cell_type": "code",
   "execution_count": 7,
   "id": "44cf4ea3",
   "metadata": {
    "execution": {
     "iopub.execute_input": "2024-09-03T00:17:48.967351Z",
     "iopub.status.busy": "2024-09-03T00:17:48.966761Z",
     "iopub.status.idle": "2024-09-03T00:17:48.972778Z",
     "shell.execute_reply": "2024-09-03T00:17:48.971830Z"
    },
    "papermill": {
     "duration": 0.018126,
     "end_time": "2024-09-03T00:17:48.974568",
     "exception": false,
     "start_time": "2024-09-03T00:17:48.956442",
     "status": "completed"
    },
    "tags": []
   },
   "outputs": [
    {
     "data": {
      "text/plain": [
       "['adenocarcinoma_left.lower.lobe_T2_N0_M0_Ib',\n",
       " 'large.cell.carcinoma_left.hilum_T2_N2_M0_IIIa',\n",
       " 'normal',\n",
       " 'squamous.cell.carcinoma_left.hilum_T1_N2_M0_IIIa']"
      ]
     },
     "execution_count": 7,
     "metadata": {},
     "output_type": "execute_result"
    }
   ],
   "source": [
    "class_names = train_data.classes\n",
    "class_names"
   ]
  },
  {
   "cell_type": "code",
   "execution_count": 8,
   "id": "c62641b7",
   "metadata": {
    "execution": {
     "iopub.execute_input": "2024-09-03T00:17:48.995187Z",
     "iopub.status.busy": "2024-09-03T00:17:48.994552Z",
     "iopub.status.idle": "2024-09-03T00:17:49.000580Z",
     "shell.execute_reply": "2024-09-03T00:17:48.999667Z"
    },
    "papermill": {
     "duration": 0.018323,
     "end_time": "2024-09-03T00:17:49.002419",
     "exception": false,
     "start_time": "2024-09-03T00:17:48.984096",
     "status": "completed"
    },
    "tags": []
   },
   "outputs": [
    {
     "data": {
      "text/plain": [
       "{'adenocarcinoma_left.lower.lobe_T2_N0_M0_Ib': 0,\n",
       " 'large.cell.carcinoma_left.hilum_T2_N2_M0_IIIa': 1,\n",
       " 'normal': 2,\n",
       " 'squamous.cell.carcinoma_left.hilum_T1_N2_M0_IIIa': 3}"
      ]
     },
     "execution_count": 8,
     "metadata": {},
     "output_type": "execute_result"
    }
   ],
   "source": [
    "\n",
    "\n",
    "class_dict = train_data.class_to_idx\n",
    "class_dict"
   ]
  },
  {
   "cell_type": "code",
   "execution_count": 9,
   "id": "522f448d",
   "metadata": {
    "execution": {
     "iopub.execute_input": "2024-09-03T00:17:49.022609Z",
     "iopub.status.busy": "2024-09-03T00:17:49.022008Z",
     "iopub.status.idle": "2024-09-03T00:17:49.029065Z",
     "shell.execute_reply": "2024-09-03T00:17:49.028142Z"
    },
    "papermill": {
     "duration": 0.019244,
     "end_time": "2024-09-03T00:17:49.031026",
     "exception": false,
     "start_time": "2024-09-03T00:17:49.011782",
     "status": "completed"
    },
    "tags": []
   },
   "outputs": [
    {
     "name": "stdout",
     "output_type": "stream",
     "text": [
      "{'normal': 2, 'adenocarcinoma_left.lower.lobe': 0, 'large.cell.carcinoma_left.hilum': 1, 'squamous.cell.carcinoma_left.hilum': 3}\n"
     ]
    }
   ],
   "source": [
    "\n",
    "# Change the key\n",
    "old_key1 = 'adenocarcinoma_left.lower.lobe_T2_N0_M0_Ib'\n",
    "new_key1 = 'adenocarcinoma_left.lower.lobe'\n",
    "\n",
    "old_key2 = 'large.cell.carcinoma_left.hilum_T2_N2_M0_IIIa'\n",
    "new_key2 = 'large.cell.carcinoma_left.hilum'\n",
    "\n",
    "old_key3 = 'squamous.cell.carcinoma_left.hilum_T1_N2_M0_IIIa'\n",
    "new_key3 = 'squamous.cell.carcinoma_left.hilum'\n",
    "\n",
    "# Step 1: Add new key-value pair\n",
    "class_dict[new_key1] = class_dict[old_key1]\n",
    "class_dict[new_key2] = class_dict[old_key2]\n",
    "class_dict[new_key3] = class_dict[old_key3]\n",
    "\n",
    "\n",
    "# Step 2: Remove old key-value pair\n",
    "del class_dict[old_key1]\n",
    "del class_dict[old_key2]\n",
    "del class_dict[old_key3]\n",
    "\n",
    "\n",
    "print(class_dict)"
   ]
  },
  {
   "cell_type": "code",
   "execution_count": 10,
   "id": "4f9577a5",
   "metadata": {
    "execution": {
     "iopub.execute_input": "2024-09-03T00:17:49.054613Z",
     "iopub.status.busy": "2024-09-03T00:17:49.054309Z",
     "iopub.status.idle": "2024-09-03T00:17:49.060174Z",
     "shell.execute_reply": "2024-09-03T00:17:49.059425Z"
    },
    "papermill": {
     "duration": 0.021882,
     "end_time": "2024-09-03T00:17:49.063278",
     "exception": false,
     "start_time": "2024-09-03T00:17:49.041396",
     "status": "completed"
    },
    "tags": []
   },
   "outputs": [
    {
     "data": {
      "text/plain": [
       "['adenocarcinoma_left.lower.lobe',\n",
       " 'large.cell.carcinoma_left.hilum',\n",
       " 'normal',\n",
       " 'squamous.cell.carcinoma_left.hilum']"
      ]
     },
     "execution_count": 10,
     "metadata": {},
     "output_type": "execute_result"
    }
   ],
   "source": [
    "class_names[0]=new_key1\n",
    "class_names[1]=new_key2\n",
    "class_names[3]=new_key3\n",
    "class_names"
   ]
  },
  {
   "cell_type": "code",
   "execution_count": 11,
   "id": "6c96ac21",
   "metadata": {
    "execution": {
     "iopub.execute_input": "2024-09-03T00:17:49.086264Z",
     "iopub.status.busy": "2024-09-03T00:17:49.085677Z",
     "iopub.status.idle": "2024-09-03T00:17:49.091258Z",
     "shell.execute_reply": "2024-09-03T00:17:49.090433Z"
    },
    "papermill": {
     "duration": 0.018327,
     "end_time": "2024-09-03T00:17:49.093572",
     "exception": false,
     "start_time": "2024-09-03T00:17:49.075245",
     "status": "completed"
    },
    "tags": []
   },
   "outputs": [
    {
     "data": {
      "text/plain": [
       "(613, 315)"
      ]
     },
     "execution_count": 11,
     "metadata": {},
     "output_type": "execute_result"
    }
   ],
   "source": [
    "len(train_data), len(test_data)"
   ]
  },
  {
   "cell_type": "code",
   "execution_count": 12,
   "id": "165b4a10",
   "metadata": {
    "execution": {
     "iopub.execute_input": "2024-09-03T00:17:49.118752Z",
     "iopub.status.busy": "2024-09-03T00:17:49.118460Z",
     "iopub.status.idle": "2024-09-03T00:17:49.164612Z",
     "shell.execute_reply": "2024-09-03T00:17:49.163427Z"
    },
    "papermill": {
     "duration": 0.060334,
     "end_time": "2024-09-03T00:17:49.166565",
     "exception": false,
     "start_time": "2024-09-03T00:17:49.106231",
     "status": "completed"
    },
    "tags": []
   },
   "outputs": [
    {
     "name": "stdout",
     "output_type": "stream",
     "text": [
      "Image tensor:\n",
      " tensor([[[0., 0., 0.,  ..., 0., 0., 0.],\n",
      "         [0., 0., 0.,  ..., 0., 0., 0.],\n",
      "         [0., 0., 0.,  ..., 0., 0., 0.],\n",
      "         ...,\n",
      "         [0., 0., 0.,  ..., 0., 0., 0.],\n",
      "         [0., 0., 0.,  ..., 0., 0., 0.],\n",
      "         [0., 0., 0.,  ..., 0., 0., 0.]],\n",
      "\n",
      "        [[0., 0., 0.,  ..., 0., 0., 0.],\n",
      "         [0., 0., 0.,  ..., 0., 0., 0.],\n",
      "         [0., 0., 0.,  ..., 0., 0., 0.],\n",
      "         ...,\n",
      "         [0., 0., 0.,  ..., 0., 0., 0.],\n",
      "         [0., 0., 0.,  ..., 0., 0., 0.],\n",
      "         [0., 0., 0.,  ..., 0., 0., 0.]],\n",
      "\n",
      "        [[0., 0., 0.,  ..., 0., 0., 0.],\n",
      "         [0., 0., 0.,  ..., 0., 0., 0.],\n",
      "         [0., 0., 0.,  ..., 0., 0., 0.],\n",
      "         ...,\n",
      "         [0., 0., 0.,  ..., 0., 0., 0.],\n",
      "         [0., 0., 0.,  ..., 0., 0., 0.],\n",
      "         [0., 0., 0.,  ..., 0., 0., 0.]]])\n",
      "Image shape: torch.Size([3, 224, 224])\n",
      "Image datatype: torch.float32\n",
      "Image label: 2\n",
      "Label datatype: <class 'int'>\n",
      "class name: normal\n"
     ]
    }
   ],
   "source": [
    "random_idx = torch.randint(0, len(train_data), size=(1,)).item()\n",
    "img, label = train_data[random_idx][0], train_data[random_idx][1]\n",
    "\n",
    "print(f\"Image tensor:\\n {img}\")\n",
    "print(f\"Image shape: {img.shape}\")\n",
    "print(f\"Image datatype: {img.dtype}\")\n",
    "print(f\"Image label: {label}\")\n",
    "print(f\"Label datatype: {type(label)}\")\n",
    "print(f\"class name: {class_names[label]}\")"
   ]
  },
  {
   "cell_type": "markdown",
   "id": "7472cf10",
   "metadata": {
    "papermill": {
     "duration": 0.010076,
     "end_time": "2024-09-03T00:17:49.186695",
     "exception": false,
     "start_time": "2024-09-03T00:17:49.176619",
     "status": "completed"
    },
    "tags": []
   },
   "source": [
    "# Visualize"
   ]
  },
  {
   "cell_type": "code",
   "execution_count": 13,
   "id": "754198b9",
   "metadata": {
    "execution": {
     "iopub.execute_input": "2024-09-03T00:17:49.208576Z",
     "iopub.status.busy": "2024-09-03T00:17:49.208171Z",
     "iopub.status.idle": "2024-09-03T00:17:49.562111Z",
     "shell.execute_reply": "2024-09-03T00:17:49.561216Z"
    },
    "papermill": {
     "duration": 0.368238,
     "end_time": "2024-09-03T00:17:49.565386",
     "exception": false,
     "start_time": "2024-09-03T00:17:49.197148",
     "status": "completed"
    },
    "tags": []
   },
   "outputs": [
    {
     "name": "stdout",
     "output_type": "stream",
     "text": [
      "Image permute: torch.Size([224, 224, 3]) \n"
     ]
    },
    {
     "data": {
      "text/plain": [
       "Text(0.5, 1.0, 'large.cell.carcinoma_left.hilum')"
      ]
     },
     "execution_count": 13,
     "metadata": {},
     "output_type": "execute_result"
    },
    {
     "data": {
      "image/png": "[encoded data removed]",
      "text/plain": [
       "<Figure size 1200x700 with 1 Axes>"
      ]
     },
     "metadata": {},
     "output_type": "display_data"
    }
   ],
   "source": [
    "import random \n",
    "from PIL import Image\n",
    "import matplotlib.pyplot as plt\n",
    "random_idx = torch.randint(0, len(train_data), size=(1,)).item()\n",
    "img, label = train_data[random_idx][0], train_data[random_idx][1]\n",
    "\n",
    "\n",
    "img_permute = img.permute(1, 2, 0)\n",
    "print(f\"Image permute: {img_permute.shape} \")\n",
    "plt.figure(figsize=(12, 7))\n",
    "plt.imshow(img_permute)\n",
    "plt.axis(\"off\")\n",
    "plt.title(class_names[label], fontsize=14)"
   ]
  },
  {
   "cell_type": "code",
   "execution_count": 14,
   "id": "e37db680",
   "metadata": {
    "execution": {
     "iopub.execute_input": "2024-09-03T00:17:49.590423Z",
     "iopub.status.busy": "2024-09-03T00:17:49.590091Z",
     "iopub.status.idle": "2024-09-03T00:17:49.597549Z",
     "shell.execute_reply": "2024-09-03T00:17:49.596708Z"
    },
    "papermill": {
     "duration": 0.021768,
     "end_time": "2024-09-03T00:17:49.599505",
     "exception": false,
     "start_time": "2024-09-03T00:17:49.577737",
     "status": "completed"
    },
    "tags": []
   },
   "outputs": [
    {
     "data": {
      "text/plain": [
       "(<torch.utils.data.dataloader.DataLoader at 0x7c0969c4f940>,\n",
       " <torch.utils.data.dataloader.DataLoader at 0x7c0969c4d780>)"
      ]
     },
     "execution_count": 14,
     "metadata": {},
     "output_type": "execute_result"
    }
   ],
   "source": [
    "\n",
    "BATCH_SIZE=32\n",
    "train_dataloader = DataLoader(dataset=train_data,\n",
    "                              batch_size=BATCH_SIZE,\n",
    "                              num_workers=1,\n",
    "                              shuffle=True)\n",
    "\n",
    "test_dataloader = DataLoader(dataset=test_data,\n",
    "                             batch_size=BATCH_SIZE,\n",
    "                             num_workers=1,\n",
    "                             shuffle=False)\n",
    "\n",
    "train_dataloader, test_dataloader"
   ]
  },
  {
   "cell_type": "markdown",
   "id": "aef13c97",
   "metadata": {
    "papermill": {
     "duration": 0.011641,
     "end_time": "2024-09-03T00:17:49.622947",
     "exception": false,
     "start_time": "2024-09-03T00:17:49.611306",
     "status": "completed"
    },
    "tags": []
   },
   "source": [
    "# Build  Model\n"
   ]
  },
  {
   "cell_type": "code",
   "execution_count": 15,
   "id": "541cc287",
   "metadata": {
    "execution": {
     "iopub.execute_input": "2024-09-03T00:17:49.648165Z",
     "iopub.status.busy": "2024-09-03T00:17:49.647863Z",
     "iopub.status.idle": "2024-09-03T00:17:49.657673Z",
     "shell.execute_reply": "2024-09-03T00:17:49.656903Z"
    },
    "papermill": {
     "duration": 0.024633,
     "end_time": "2024-09-03T00:17:49.659583",
     "exception": false,
     "start_time": "2024-09-03T00:17:49.634950",
     "status": "completed"
    },
    "tags": []
   },
   "outputs": [
    {
     "data": {
      "text/plain": [
       "Sequential(\n",
       "  (0): Linear(in_features=512, out_features=512, bias=True)\n",
       "  (1): Dropout(p=0.2, inplace=False)\n",
       "  (2): Linear(in_features=512, out_features=256, bias=True)\n",
       "  (3): Linear(in_features=256, out_features=4, bias=True)\n",
       ")"
      ]
     },
     "execution_count": 15,
     "metadata": {},
     "output_type": "execute_result"
    }
   ],
   "source": [
    "resnet18_model.fc = nn.Sequential (\n",
    "    nn.Linear(512,512),\n",
    "    nn.Dropout(0.2),\n",
    "     nn.Linear(512,256),\n",
    "    nn.Linear(256,len(class_names)), # -> len(labels) labels according to labels\n",
    ")\n",
    "resnet18_model.fc"
   ]
  },
  {
   "cell_type": "code",
   "execution_count": 16,
   "id": "6e33a6f5",
   "metadata": {
    "execution": {
     "iopub.execute_input": "2024-09-03T00:17:49.684638Z",
     "iopub.status.busy": "2024-09-03T00:17:49.684319Z",
     "iopub.status.idle": "2024-09-03T00:17:49.689162Z",
     "shell.execute_reply": "2024-09-03T00:17:49.688446Z"
    },
    "papermill": {
     "duration": 0.019599,
     "end_time": "2024-09-03T00:17:49.691056",
     "exception": false,
     "start_time": "2024-09-03T00:17:49.671457",
     "status": "completed"
    },
    "tags": []
   },
   "outputs": [],
   "source": [
    "resnet18_model.conv1 = nn.Conv2d(3, 64, kernel_size=(7, 7), stride=(2, 2), padding=(3, 3), bias=False)\n"
   ]
  },
  {
   "cell_type": "code",
   "execution_count": 17,
   "id": "e407cbd0",
   "metadata": {
    "execution": {
     "iopub.execute_input": "2024-09-03T00:17:49.715980Z",
     "iopub.status.busy": "2024-09-03T00:17:49.715694Z",
     "iopub.status.idle": "2024-09-03T00:17:49.721878Z",
     "shell.execute_reply": "2024-09-03T00:17:49.721174Z"
    },
    "papermill": {
     "duration": 0.020567,
     "end_time": "2024-09-03T00:17:49.723668",
     "exception": false,
     "start_time": "2024-09-03T00:17:49.703101",
     "status": "completed"
    },
    "tags": []
   },
   "outputs": [],
   "source": [
    "from torch.optim import lr_scheduler\n",
    "loss_fn = nn.CrossEntropyLoss()\n",
    "optimizer = torch.optim.Adam(resnet18_model.parameters(), lr=0.01)\n",
    "optimizer = torch.optim.SGD(resnet18_model.parameters(), lr=0.01, momentum=0.9)\n"
   ]
  },
  {
   "cell_type": "code",
   "execution_count": 18,
   "id": "5e3edb07",
   "metadata": {
    "execution": {
     "iopub.execute_input": "2024-09-03T00:17:49.748735Z",
     "iopub.status.busy": "2024-09-03T00:17:49.748243Z",
     "iopub.status.idle": "2024-09-03T00:17:50.550428Z",
     "shell.execute_reply": "2024-09-03T00:17:50.549486Z"
    },
    "papermill": {
     "duration": 0.816962,
     "end_time": "2024-09-03T00:17:50.552511",
     "exception": false,
     "start_time": "2024-09-03T00:17:49.735549",
     "status": "completed"
    },
    "tags": []
   },
   "outputs": [
    {
     "data": {
      "text/plain": [
       "==========================================================================================\n",
       "Layer (type:depth-idx)                   Output Shape              Param #\n",
       "==========================================================================================\n",
       "ResNet                                   [1, 4]                    --\n",
       "├─Conv2d: 1-1                            [1, 64, 32, 32]           9,408\n",
       "├─BatchNorm2d: 1-2                       [1, 64, 32, 32]           128\n",
       "├─ReLU: 1-3                              [1, 64, 32, 32]           --\n",
       "├─MaxPool2d: 1-4                         [1, 64, 16, 16]           --\n",
       "├─Sequential: 1-5                        [1, 64, 16, 16]           --\n",
       "│    └─BasicBlock: 2-1                   [1, 64, 16, 16]           --\n",
       "│    │    └─Conv2d: 3-1                  [1, 64, 16, 16]           36,864\n",
       "│    │    └─BatchNorm2d: 3-2             [1, 64, 16, 16]           128\n",
       "│    │    └─ReLU: 3-3                    [1, 64, 16, 16]           --\n",
       "│    │    └─Conv2d: 3-4                  [1, 64, 16, 16]           36,864\n",
       "│    │    └─BatchNorm2d: 3-5             [1, 64, 16, 16]           128\n",
       "│    │    └─ReLU: 3-6                    [1, 64, 16, 16]           --\n",
       "│    └─BasicBlock: 2-2                   [1, 64, 16, 16]           --\n",
       "│    │    └─Conv2d: 3-7                  [1, 64, 16, 16]           36,864\n",
       "│    │    └─BatchNorm2d: 3-8             [1, 64, 16, 16]           128\n",
       "│    │    └─ReLU: 3-9                    [1, 64, 16, 16]           --\n",
       "│    │    └─Conv2d: 3-10                 [1, 64, 16, 16]           36,864\n",
       "│    │    └─BatchNorm2d: 3-11            [1, 64, 16, 16]           128\n",
       "│    │    └─ReLU: 3-12                   [1, 64, 16, 16]           --\n",
       "├─Sequential: 1-6                        [1, 128, 8, 8]            --\n",
       "│    └─BasicBlock: 2-3                   [1, 128, 8, 8]            --\n",
       "│    │    └─Conv2d: 3-13                 [1, 128, 8, 8]            73,728\n",
       "│    │    └─BatchNorm2d: 3-14            [1, 128, 8, 8]            256\n",
       "│    │    └─ReLU: 3-15                   [1, 128, 8, 8]            --\n",
       "│    │    └─Conv2d: 3-16                 [1, 128, 8, 8]            147,456\n",
       "│    │    └─BatchNorm2d: 3-17            [1, 128, 8, 8]            256\n",
       "│    │    └─Sequential: 3-18             [1, 128, 8, 8]            8,448\n",
       "│    │    └─ReLU: 3-19                   [1, 128, 8, 8]            --\n",
       "│    └─BasicBlock: 2-4                   [1, 128, 8, 8]            --\n",
       "│    │    └─Conv2d: 3-20                 [1, 128, 8, 8]            147,456\n",
       "│    │    └─BatchNorm2d: 3-21            [1, 128, 8, 8]            256\n",
       "│    │    └─ReLU: 3-22                   [1, 128, 8, 8]            --\n",
       "│    │    └─Conv2d: 3-23                 [1, 128, 8, 8]            147,456\n",
       "│    │    └─BatchNorm2d: 3-24            [1, 128, 8, 8]            256\n",
       "│    │    └─ReLU: 3-25                   [1, 128, 8, 8]            --\n",
       "├─Sequential: 1-7                        [1, 256, 4, 4]            --\n",
       "│    └─BasicBlock: 2-5                   [1, 256, 4, 4]            --\n",
       "│    │    └─Conv2d: 3-26                 [1, 256, 4, 4]            294,912\n",
       "│    │    └─BatchNorm2d: 3-27            [1, 256, 4, 4]            512\n",
       "│    │    └─ReLU: 3-28                   [1, 256, 4, 4]            --\n",
       "│    │    └─Conv2d: 3-29                 [1, 256, 4, 4]            589,824\n",
       "│    │    └─BatchNorm2d: 3-30            [1, 256, 4, 4]            512\n",
       "│    │    └─Sequential: 3-31             [1, 256, 4, 4]            33,280\n",
       "│    │    └─ReLU: 3-32                   [1, 256, 4, 4]            --\n",
       "│    └─BasicBlock: 2-6                   [1, 256, 4, 4]            --\n",
       "│    │    └─Conv2d: 3-33                 [1, 256, 4, 4]            589,824\n",
       "│    │    └─BatchNorm2d: 3-34            [1, 256, 4, 4]            512\n",
       "│    │    └─ReLU: 3-35                   [1, 256, 4, 4]            --\n",
       "│    │    └─Conv2d: 3-36                 [1, 256, 4, 4]            589,824\n",
       "│    │    └─BatchNorm2d: 3-37            [1, 256, 4, 4]            512\n",
       "│    │    └─ReLU: 3-38                   [1, 256, 4, 4]            --\n",
       "├─Sequential: 1-8                        [1, 512, 2, 2]            --\n",
       "│    └─BasicBlock: 2-7                   [1, 512, 2, 2]            --\n",
       "│    │    └─Conv2d: 3-39                 [1, 512, 2, 2]            1,179,648\n",
       "│    │    └─BatchNorm2d: 3-40            [1, 512, 2, 2]            1,024\n",
       "│    │    └─ReLU: 3-41                   [1, 512, 2, 2]            --\n",
       "│    │    └─Conv2d: 3-42                 [1, 512, 2, 2]            2,359,296\n",
       "│    │    └─BatchNorm2d: 3-43            [1, 512, 2, 2]            1,024\n",
       "│    │    └─Sequential: 3-44             [1, 512, 2, 2]            132,096\n",
       "│    │    └─ReLU: 3-45                   [1, 512, 2, 2]            --\n",
       "│    └─BasicBlock: 2-8                   [1, 512, 2, 2]            --\n",
       "│    │    └─Conv2d: 3-46                 [1, 512, 2, 2]            2,359,296\n",
       "│    │    └─BatchNorm2d: 3-47            [1, 512, 2, 2]            1,024\n",
       "│    │    └─ReLU: 3-48                   [1, 512, 2, 2]            --\n",
       "│    │    └─Conv2d: 3-49                 [1, 512, 2, 2]            2,359,296\n",
       "│    │    └─BatchNorm2d: 3-50            [1, 512, 2, 2]            1,024\n",
       "│    │    └─ReLU: 3-51                   [1, 512, 2, 2]            --\n",
       "├─AdaptiveAvgPool2d: 1-9                 [1, 512, 1, 1]            --\n",
       "├─Sequential: 1-10                       [1, 4]                    --\n",
       "│    └─Linear: 2-9                       [1, 512]                  262,656\n",
       "│    └─Dropout: 2-10                     [1, 512]                  --\n",
       "│    └─Linear: 2-11                      [1, 256]                  131,328\n",
       "│    └─Linear: 2-12                      [1, 4]                    1,028\n",
       "==========================================================================================\n",
       "Total params: 11,571,524\n",
       "Trainable params: 11,571,524\n",
       "Non-trainable params: 0\n",
       "Total mult-adds (M): 148.45\n",
       "==========================================================================================\n",
       "Input size (MB): 0.05\n",
       "Forward/backward pass size (MB): 3.25\n",
       "Params size (MB): 46.29\n",
       "Estimated Total Size (MB): 49.59\n",
       "=========================================================================================="
      ]
     },
     "execution_count": 18,
     "metadata": {},
     "output_type": "execute_result"
    }
   ],
   "source": [
    "from torchinfo import summary\n",
    "summary(resnet18_model, input_size=[1, 3, 64, 64])"
   ]
  },
  {
   "cell_type": "markdown",
   "id": "2f54cd20",
   "metadata": {
    "papermill": {
     "duration": 0.011879,
     "end_time": "2024-09-03T00:17:50.576805",
     "exception": false,
     "start_time": "2024-09-03T00:17:50.564926",
     "status": "completed"
    },
    "tags": []
   },
   "source": [
    "# Train Step"
   ]
  },
  {
   "cell_type": "code",
   "execution_count": 19,
   "id": "f422c6ba",
   "metadata": {
    "execution": {
     "iopub.execute_input": "2024-09-03T00:17:50.602747Z",
     "iopub.status.busy": "2024-09-03T00:17:50.601944Z",
     "iopub.status.idle": "2024-09-03T00:17:50.610106Z",
     "shell.execute_reply": "2024-09-03T00:17:50.609315Z"
    },
    "papermill": {
     "duration": 0.02314,
     "end_time": "2024-09-03T00:17:50.612052",
     "exception": false,
     "start_time": "2024-09-03T00:17:50.588912",
     "status": "completed"
    },
    "tags": []
   },
   "outputs": [],
   "source": [
    "def train_step(model: torch.nn.Module,\n",
    "               dataloader: torch.utils.data.DataLoader,\n",
    "               loss_fn: torch.nn.Module,\n",
    "               optimizer:torch.optim.Optimizer,\n",
    "               device=device):\n",
    "  model.train()\n",
    "\n",
    "  train_loss, train_acc = 0, 0\n",
    "\n",
    "  for batch, (X, y) in enumerate(dataloader):\n",
    "    X, y = X.to(device), y.to(device)\n",
    "\n",
    "    y_pred = model(X) \n",
    "\n",
    "\n",
    "    loss = loss_fn(y_pred, y)\n",
    "    train_loss += loss.item()\n",
    "\n",
    "  \n",
    "    optimizer.zero_grad()\n",
    "\n",
    "    \n",
    "    loss.backward()\n",
    "\n",
    "  \n",
    "    optimizer.step()\n",
    "\n",
    "    # Calculate accuracy metric\n",
    "    y_pred_class = torch.argmax(torch.softmax(y_pred, dim=1), dim=1)\n",
    "    train_acc += (y_pred_class==y).sum().item()/len(y_pred)\n",
    "  \n",
    "  # Adjust metrics to get average loss and accuracy per batch\n",
    "  train_loss = train_loss / len(dataloader)\n",
    "  train_acc = train_acc / len(dataloader) \n",
    "  return train_loss, train_acc "
   ]
  },
  {
   "cell_type": "code",
   "execution_count": 20,
   "id": "8c879aa0",
   "metadata": {
    "execution": {
     "iopub.execute_input": "2024-09-03T00:17:50.638658Z",
     "iopub.status.busy": "2024-09-03T00:17:50.638295Z",
     "iopub.status.idle": "2024-09-03T00:17:50.645801Z",
     "shell.execute_reply": "2024-09-03T00:17:50.644913Z"
    },
    "papermill": {
     "duration": 0.022966,
     "end_time": "2024-09-03T00:17:50.647832",
     "exception": false,
     "start_time": "2024-09-03T00:17:50.624866",
     "status": "completed"
    },
    "tags": []
   },
   "outputs": [],
   "source": [
    "def test_step(model: torch.nn.Module,\n",
    "              dataloader: torch.utils.data.DataLoader,\n",
    "              loss_fn: torch.nn.Module,\n",
    "              device=device):\n",
    "  model.eval()\n",
    "\n",
    "  test_loss, test_acc = 0,  0\n",
    "\n",
    "  with torch.inference_mode():\n",
    "    for batch, (X, y) in enumerate(dataloader): \n",
    "      X, y = X.to(device), y.to(device)\n",
    "\n",
    "      test_pred_logits = model(X)\n",
    "\n",
    "     \n",
    "      loss = loss_fn(test_pred_logits, y)\n",
    "      test_loss += loss.item()\n",
    "\n",
    "    \n",
    "      test_pred_labels = test_pred_logits.argmax(dim=1)\n",
    "      test_acc += ((test_pred_labels == y).sum().item()/len(test_pred_labels))\n",
    "\n",
    "  # Adjust metrics to get average loss and accuracy per batch\n",
    "  test_loss = test_loss / len(dataloader)\n",
    "  test_acc = test_acc / len(dataloader)\n",
    "  return test_loss, test_acc"
   ]
  },
  {
   "cell_type": "code",
   "execution_count": 21,
   "id": "94d25fca",
   "metadata": {
    "execution": {
     "iopub.execute_input": "2024-09-03T00:17:50.673674Z",
     "iopub.status.busy": "2024-09-03T00:17:50.673354Z",
     "iopub.status.idle": "2024-09-03T00:17:50.768830Z",
     "shell.execute_reply": "2024-09-03T00:17:50.768016Z"
    },
    "papermill": {
     "duration": 0.111232,
     "end_time": "2024-09-03T00:17:50.771270",
     "exception": false,
     "start_time": "2024-09-03T00:17:50.660038",
     "status": "completed"
    },
    "tags": []
   },
   "outputs": [],
   "source": [
    "from tqdm.auto import tqdm\n",
    "\n",
    "def train(model: torch.nn.Module,\n",
    "          train_dataloader,\n",
    "          test_dataloader,\n",
    "          optimizer,\n",
    "          loss_fn: torch.nn.Module = nn.CrossEntropyLoss(),\n",
    "          epochs: int = 5, \n",
    "          device=device):\n",
    "  \n",
    "  results = {\"train_loss\": [],\n",
    "             \"train_acc\": [],\n",
    "             \"test_loss\": [],\n",
    "             \"test_acc\": []}\n",
    "  \n",
    "  for epoch in tqdm(range(epochs)):\n",
    "    train_loss, train_acc = train_step(model=model,\n",
    "                                       dataloader=train_dataloader,\n",
    "                                       loss_fn=loss_fn,\n",
    "                                       optimizer=optimizer,\n",
    "                                       device=device)\n",
    "    test_loss, test_acc = test_step(model=model,\n",
    "                                    dataloader=test_dataloader,\n",
    "                                    loss_fn=loss_fn,\n",
    "                                    device=device)\n",
    "    \n",
    "    print(f\"Epoch: {epoch} | Train loss: {train_loss:.4f} | Train acc: {train_acc:.4f} | Test loss: {test_loss:.4f} | Test acc: {test_acc:.4f}\")\n",
    "\n",
    "    results[\"train_loss\"].append(train_loss)\n",
    "    results[\"train_acc\"].append(train_acc)\n",
    "    results[\"test_loss\"].append(test_loss)\n",
    "    results[\"test_acc\"].append(test_acc)\n",
    "  \n",
    "  return results"
   ]
  },
  {
   "cell_type": "code",
   "execution_count": 22,
   "id": "7a34b2eb",
   "metadata": {
    "execution": {
     "iopub.execute_input": "2024-09-03T00:17:50.797774Z",
     "iopub.status.busy": "2024-09-03T00:17:50.797405Z",
     "iopub.status.idle": "2024-09-03T00:19:48.221964Z",
     "shell.execute_reply": "2024-09-03T00:19:48.220889Z"
    },
    "papermill": {
     "duration": 117.440818,
     "end_time": "2024-09-03T00:19:48.224956",
     "exception": false,
     "start_time": "2024-09-03T00:17:50.784138",
     "status": "completed"
    },
    "tags": []
   },
   "outputs": [
    {
     "data": {
      "application/vnd.jupyter.widget-view+json": {
       "model_id": "d4f151f4b8274ccba22116f153d6c196",
       "version_major": 2,
       "version_minor": 0
      },
      "text/plain": [
       "  0%|          | 0/15 [00:00<?, ?it/s]"
      ]
     },
     "metadata": {},
     "output_type": "display_data"
    },
    {
     "name": "stdout",
     "output_type": "stream",
     "text": [
      "Epoch: 0 | Train loss: 1.0620 | Train acc: 0.5216 | Test loss: 1.4265 | Test acc: 0.3836\n",
      "Epoch: 1 | Train loss: 0.7165 | Train acc: 0.6813 | Test loss: 1.0756 | Test acc: 0.4936\n",
      "Epoch: 2 | Train loss: 0.4289 | Train acc: 0.8456 | Test loss: 1.1745 | Test acc: 0.5756\n",
      "Epoch: 3 | Train loss: 0.4796 | Train acc: 0.8375 | Test loss: 0.9519 | Test acc: 0.5880\n",
      "Epoch: 4 | Train loss: 0.3545 | Train acc: 0.8666 | Test loss: 0.7010 | Test acc: 0.7263\n",
      "Epoch: 5 | Train loss: 0.2831 | Train acc: 0.9072 | Test loss: 0.9471 | Test acc: 0.6140\n",
      "Epoch: 6 | Train loss: 0.2824 | Train acc: 0.9041 | Test loss: 0.8159 | Test acc: 0.6330\n",
      "Epoch: 7 | Train loss: 0.1939 | Train acc: 0.9137 | Test loss: 1.4725 | Test acc: 0.5461\n",
      "Epoch: 8 | Train loss: 0.1680 | Train acc: 0.9406 | Test loss: 1.2745 | Test acc: 0.5861\n",
      "Epoch: 9 | Train loss: 0.1468 | Train acc: 0.9494 | Test loss: 1.0065 | Test acc: 0.6635\n",
      "Epoch: 10 | Train loss: 0.1310 | Train acc: 0.9516 | Test loss: 1.0868 | Test acc: 0.6759\n",
      "Epoch: 11 | Train loss: 0.1041 | Train acc: 0.9594 | Test loss: 0.8203 | Test acc: 0.7001\n",
      "Epoch: 12 | Train loss: 0.1887 | Train acc: 0.9394 | Test loss: 0.6077 | Test acc: 0.7706\n",
      "Epoch: 13 | Train loss: 0.2994 | Train acc: 0.8925 | Test loss: 1.1158 | Test acc: 0.6170\n",
      "Epoch: 14 | Train loss: 0.2471 | Train acc: 0.9213 | Test loss: 0.5563 | Test acc: 0.8096\n",
      "Total training time: 117.417 seconds\n"
     ]
    }
   ],
   "source": [
    "\n",
    "NUM_EPOCHS = 15\n",
    "\n",
    "\n",
    "# Start the timer\n",
    "from timeit import default_timer as timer\n",
    "start_time = timer() \n",
    "\n",
    "model_0_results = train(model=resnet18_model,\n",
    "                        train_dataloader=train_dataloader,\n",
    "                        test_dataloader=test_dataloader,\n",
    "                        optimizer=optimizer,\n",
    "                        loss_fn=loss_fn,\n",
    "                        epochs=NUM_EPOCHS)\n",
    "\n",
    "# End the timer and print out how long it took\n",
    "end_time = timer()\n",
    "print(f\"Total training time: {end_time-start_time:.3f} seconds\")"
   ]
  },
  {
   "cell_type": "markdown",
   "id": "ff2fea0e",
   "metadata": {
    "papermill": {
     "duration": 0.014601,
     "end_time": "2024-09-03T00:19:48.260993",
     "exception": false,
     "start_time": "2024-09-03T00:19:48.246392",
     "status": "completed"
    },
    "tags": []
   },
   "source": [
    "## Saving Model"
   ]
  },
  {
   "cell_type": "code",
   "execution_count": 23,
   "id": "ca4c0cc6",
   "metadata": {
    "execution": {
     "iopub.execute_input": "2024-09-03T00:19:48.293379Z",
     "iopub.status.busy": "2024-09-03T00:19:48.292656Z",
     "iopub.status.idle": "2024-09-03T00:19:48.389726Z",
     "shell.execute_reply": "2024-09-03T00:19:48.388851Z"
    },
    "papermill": {
     "duration": 0.11424,
     "end_time": "2024-09-03T00:19:48.391978",
     "exception": false,
     "start_time": "2024-09-03T00:19:48.277738",
     "status": "completed"
    },
    "tags": []
   },
   "outputs": [],
   "source": [
    "torch.save(resnet18_model.state_dict(), \"chest-ctscan_model.pth\")\n"
   ]
  },
  {
   "cell_type": "code",
   "execution_count": null,
   "id": "c41ddb75",
   "metadata": {
    "papermill": {
     "duration": 0.013232,
     "end_time": "2024-09-03T00:19:48.418908",
     "exception": false,
     "start_time": "2024-09-03T00:19:48.405676",
     "status": "completed"
    },
    "tags": []
   },
   "outputs": [],
   "source": []
  }
 ],
 "metadata": {
  "kaggle": {
   "accelerator": "gpu",
   "dataSources": [
    {
     "datasetId": 839140,
     "sourceId": 1432479,
     "sourceType": "datasetVersion"
    }
   ],
   "dockerImageVersionId": 30762,
   "isGpuEnabled": true,
   "isInternetEnabled": true,
   "language": "python",
   "sourceType": "notebook"
  },
  "kernelspec": {
   "display_name": "Python 3",
   "language": "python",
   "name": "python3"
  },
  "language_info": {
   "codemirror_mode": {
    "name": "ipython",
    "version": 3
   },
   "file_extension": ".py",
   "mimetype": "text/x-python",
   "name": "python",
   "nbconvert_exporter": "python",
   "pygments_lexer": "ipython3",
   "version": "3.10.14"
  },
  "papermill": {
   "default_parameters": {},
   "duration": 129.563211,
   "end_time": "2024-09-03T00:19:49.855522",
   "environment_variables": {},
   "exception": null,
   "input_path": "__notebook__.ipynb",
   "output_path": "__notebook__.ipynb",
   "parameters": {},
   "start_time": "2024-09-03T00:17:40.292311",
   "version": "2.6.0"
  },
  "widgets": {
   "application/vnd.jupyter.widget-state+json": {
    "state": {
     "0e861d1590ed47cab7e71af8c14bf5ef": {
      "model_module": "@jupyter-widgets/base",
      "model_module_version": "1.2.0",
      "model_name": "LayoutModel",
      "state": {
       "_model_module": "@jupyter-widgets/base",
       "_model_module_version": "1.2.0",
       "_model_name": "LayoutModel",
       "_view_count": null,
       "_view_module": "@jupyter-widgets/base",
       "_view_module_version": "1.2.0",
       "_view_name": "LayoutView",
       "align_content": null,
       "align_items": null,
       "align_self": null,
       "border": null,
       "bottom": null,
       "display": null,
       "flex": null,
       "flex_flow": null,
       "grid_area": null,
       "grid_auto_columns": null,
       "grid_auto_flow": null,
       "grid_auto_rows": null,
       "grid_column": null,
       "grid_gap": null,
       "grid_row": null,
       "grid_template_areas": null,
       "grid_template_columns": null,
       "grid_template_rows": null,
       "height": null,
       "justify_content": null,
       "justify_items": null,
       "left": null,
       "margin": null,
       "max_height": null,
       "max_width": null,
       "min_height": null,
       "min_width": null,
       "object_fit": null,
       "object_position": null,
       "order": null,
       "overflow": null,
       "overflow_x": null,
       "overflow_y": null,
       "padding": null,
       "right": null,
       "top": null,
       "visibility": null,
       "width": null
      }
     },
     "134c1f6e448b4491a3cc2335c8187648": {
      "model_module": "@jupyter-widgets/controls",
      "model_module_version": "1.5.0",
      "model_name": "DescriptionStyleModel",
      "state": {
       "_model_module": "@jupyter-widgets/controls",
       "_model_module_version": "1.5.0",
       "_model_name": "DescriptionStyleModel",
       "_view_count": null,
       "_view_module": "@jupyter-widgets/base",
       "_view_module_version": "1.2.0",
       "_view_name": "StyleView",
       "description_width": ""
      }
     },
     "562c37b6ee974531bb07cdff4173917e": {
      "model_module": "@jupyter-widgets/base",
      "model_module_version": "1.2.0",
      "model_name": "LayoutModel",
      "state": {
       "_model_module": "@jupyter-widgets/base",
       "_model_module_version": "1.2.0",
       "_model_name": "LayoutModel",
       "_view_count": null,
       "_view_module": "@jupyter-widgets/base",
       "_view_module_version": "1.2.0",
       "_view_name": "LayoutView",
       "align_content": null,
       "align_items": null,
       "align_self": null,
       "border": null,
       "bottom": null,
       "display": null,
       "flex": null,
       "flex_flow": null,
       "grid_area": null,
       "grid_auto_columns": null,
       "grid_auto_flow": null,
       "grid_auto_rows": null,
       "grid_column": null,
       "grid_gap": null,
       "grid_row": null,
       "grid_template_areas": null,
       "grid_template_columns": null,
       "grid_template_rows": null,
       "height": null,
       "justify_content": null,
       "justify_items": null,
       "left": null,
       "margin": null,
       "max_height": null,
       "max_width": null,
       "min_height": null,
       "min_width": null,
       "object_fit": null,
       "object_position": null,
       "order": null,
       "overflow": null,
       "overflow_x": null,
       "overflow_y": null,
       "padding": null,
       "right": null,
       "top": null,
       "visibility": null,
       "width": null
      }
     },
     "5c80f2a28f424132a972ae077b11fa4d": {
      "model_module": "@jupyter-widgets/controls",
      "model_module_version": "1.5.0",
      "model_name": "FloatProgressModel",
      "state": {
       "_dom_classes": [],
       "_model_module": "@jupyter-widgets/controls",
       "_model_module_version": "1.5.0",
       "_model_name": "FloatProgressModel",
       "_view_count": null,
       "_view_module": "@jupyter-widgets/controls",
       "_view_module_version": "1.5.0",
       "_view_name": "ProgressView",
       "bar_style": "success",
       "description": "",
       "description_tooltip": null,
       "layout": "IPY_MODEL_0e861d1590ed47cab7e71af8c14bf5ef",
       "max": 15.0,
       "min": 0.0,
       "orientation": "horizontal",
       "style": "IPY_MODEL_b77624f5c93042d1bfb46a0659a4c43b",
       "value": 15.0
      }
     },
     "a9375076f19d46968d3a151f4562d8ad": {
      "model_module": "@jupyter-widgets/base",
      "model_module_version": "1.2.0",
      "model_name": "LayoutModel",
      "state": {
       "_model_module": "@jupyter-widgets/base",
       "_model_module_version": "1.2.0",
       "_model_name": "LayoutModel",
       "_view_count": null,
       "_view_module": "@jupyter-widgets/base",
       "_view_module_version": "1.2.0",
       "_view_name": "LayoutView",
       "align_content": null,
       "align_items": null,
       "align_self": null,
       "border": null,
       "bottom": null,
       "display": null,
       "flex": null,
       "flex_flow": null,
       "grid_area": null,
       "grid_auto_columns": null,
       "grid_auto_flow": null,
       "grid_auto_rows": null,
       "grid_column": null,
       "grid_gap": null,
       "grid_row": null,
       "grid_template_areas": null,
       "grid_template_columns": null,
       "grid_template_rows": null,
       "height": null,
       "justify_content": null,
       "justify_items": null,
       "left": null,
       "margin": null,
       "max_height": null,
       "max_width": null,
       "min_height": null,
       "min_width": null,
       "object_fit": null,
       "object_position": null,
       "order": null,
       "overflow": null,
       "overflow_x": null,
       "overflow_y": null,
       "padding": null,
       "right": null,
       "top": null,
       "visibility": null,
       "width": null
      }
     },
     "b77624f5c93042d1bfb46a0659a4c43b": {
      "model_module": "@jupyter-widgets/controls",
      "model_module_version": "1.5.0",
      "model_name": "ProgressStyleModel",
      "state": {
       "_model_module": "@jupyter-widgets/controls",
       "_model_module_version": "1.5.0",
       "_model_name": "ProgressStyleModel",
       "_view_count": null,
       "_view_module": "@jupyter-widgets/base",
       "_view_module_version": "1.2.0",
       "_view_name": "StyleView",
       "bar_color": null,
       "description_width": ""
      }
     },
     "d1819b9525654364a521eb13b1271756": {
      "model_module": "@jupyter-widgets/controls",
      "model_module_version": "1.5.0",
      "model_name": "HTMLModel",
      "state": {
       "_dom_classes": [],
       "_model_module": "@jupyter-widgets/controls",
       "_model_module_version": "1.5.0",
       "_model_name": "HTMLModel",
       "_view_count": null,
       "_view_module": "@jupyter-widgets/controls",
       "_view_module_version": "1.5.0",
       "_view_name": "HTMLView",
       "description": "",
       "description_tooltip": null,
       "layout": "IPY_MODEL_dbe9dd51867041f7b9a296fc4c67239f",
       "placeholder": "​",
       "style": "IPY_MODEL_134c1f6e448b4491a3cc2335c8187648",
       "value": " 15/15 [01:57&lt;00:00,  7.66s/it]"
      }
     },
     "d4f151f4b8274ccba22116f153d6c196": {
      "model_module": "@jupyter-widgets/controls",
      "model_module_version": "1.5.0",
      "model_name": "HBoxModel",
      "state": {
       "_dom_classes": [],
       "_model_module": "@jupyter-widgets/controls",
       "_model_module_version": "1.5.0",
       "_model_name": "HBoxModel",
       "_view_count": null,
       "_view_module": "@jupyter-widgets/controls",
       "_view_module_version": "1.5.0",
       "_view_name": "HBoxView",
       "box_style": "",
       "children": [
        "IPY_MODEL_dce884402fbb40a99794dc91a92db4e9",
        "IPY_MODEL_5c80f2a28f424132a972ae077b11fa4d",
        "IPY_MODEL_d1819b9525654364a521eb13b1271756"
       ],
       "layout": "IPY_MODEL_a9375076f19d46968d3a151f4562d8ad"
      }
     },
     "dbe9dd51867041f7b9a296fc4c67239f": {
      "model_module": "@jupyter-widgets/base",
      "model_module_version": "1.2.0",
      "model_name": "LayoutModel",
      "state": {
       "_model_module": "@jupyter-widgets/base",
       "_model_module_version": "1.2.0",
       "_model_name": "LayoutModel",
       "_view_count": null,
       "_view_module": "@jupyter-widgets/base",
       "_view_module_version": "1.2.0",
       "_view_name": "LayoutView",
       "align_content": null,
       "align_items": null,
       "align_self": null,
       "border": null,
       "bottom": null,
       "display": null,
       "flex": null,
       "flex_flow": null,
       "grid_area": null,
       "grid_auto_columns": null,
       "grid_auto_flow": null,
       "grid_auto_rows": null,
       "grid_column": null,
       "grid_gap": null,
       "grid_row": null,
       "grid_template_areas": null,
       "grid_template_columns": null,
       "grid_template_rows": null,
       "height": null,
       "justify_content": null,
       "justify_items": null,
       "left": null,
       "margin": null,
       "max_height": null,
       "max_width": null,
       "min_height": null,
       "min_width": null,
       "object_fit": null,
       "object_position": null,
       "order": null,
       "overflow": null,
       "overflow_x": null,
       "overflow_y": null,
       "padding": null,
       "right": null,
       "top": null,
       "visibility": null,
       "width": null
      }
     },
     "dce884402fbb40a99794dc91a92db4e9": {
      "model_module": "@jupyter-widgets/controls",
      "model_module_version": "1.5.0",
      "model_name": "HTMLModel",
      "state": {
       "_dom_classes": [],
       "_model_module": "@jupyter-widgets/controls",
       "_model_module_version": "1.5.0",
       "_model_name": "HTMLModel",
       "_view_count": null,
       "_view_module": "@jupyter-widgets/controls",
       "_view_module_version": "1.5.0",
       "_view_name": "HTMLView",
       "description": "",
       "description_tooltip": null,
       "layout": "IPY_MODEL_562c37b6ee974531bb07cdff4173917e",
       "placeholder": "​",
       "style": "IPY_MODEL_fee740d381334497b7937a6b67682eb3",
       "value": "100%"
      }
     },
     "fee740d381334497b7937a6b67682eb3": {
      "model_module": "@jupyter-widgets/controls",
      "model_module_version": "1.5.0",
      "model_name": "DescriptionStyleModel",
      "state": {
       "_model_module": "@jupyter-widgets/controls",
       "_model_module_version": "1.5.0",
       "_model_name": "DescriptionStyleModel",
       "_view_count": null,
       "_view_module": "@jupyter-widgets/base",
       "_view_module_version": "1.2.0",
       "_view_name": "StyleView",
       "description_width": ""
      }
     }
    },
    "version_major": 2,
    "version_minor": 0
   }
  }
 },
 "nbformat": 4,
 "nbformat_minor": 5
}
